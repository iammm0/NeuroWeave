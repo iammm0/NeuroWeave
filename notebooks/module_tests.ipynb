{
 "cells": [
  {
   "cell_type": "markdown",
   "metadata": {},
   "source": ["# 各模块测试脚本"]
  },
  {
   "cell_type": "code",
   "metadata": {},
   "source": ["from src.gpt_module import generate_text\nprint('gpt_module ok')"],
   "outputs": [],
   "execution_count": null
  },
  {
   "cell_type": "code",
   "metadata": {},
   "source": ["from src.graph_builder import build_graph\nprint('graph_builder ok')"],
   "outputs": [],
   "execution_count": null
  },
  {
   "cell_type": "code",
   "metadata": {},
   "source": ["import torch\nfrom src.contrastive_loss import nt_xent_loss\nz=torch.randn(4,8)\nprint(nt_xent_loss(z[:2], z[2:]).item())"],
   "outputs": [],
   "execution_count": null
  }
 ],
 "metadata": {
  "kernelspec": {
   "display_name": "Python 3",
   "language": "python",
   "name": "python3"
  },
  "language_info": {
   "name": "python"
  }
 },
 "nbformat": 4,
 "nbformat_minor": 5
}
